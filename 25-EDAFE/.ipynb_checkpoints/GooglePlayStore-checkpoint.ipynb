{
 "cells": [
  {
   "cell_type": "code",
   "execution_count": 279,
   "id": "e790ff5e-6bfd-4026-906e-cfe73f280138",
   "metadata": {},
   "outputs": [],
   "source": [
    "## Bibliotecas\n",
    "\n",
    "import pandas as pd\n",
    "import numpy as np\n",
    "import seaborn as sns\n",
    "import matplotlib.pyplot as plt\n",
    "%matplotlib inline\n",
    "from sklearn.preprocessing import OneHotEncoder\n",
    "import warnings\n",
    "warnings.filterwarnings(\"ignore\")"
   ]
  },
  {
   "cell_type": "code",
   "execution_count": 281,
   "id": "71c9d486-c9ce-4610-b7dc-1e476cb9afc9",
   "metadata": {},
   "outputs": [
    {
     "data": {
      "text/html": [
       "<div>\n",
       "<style scoped>\n",
       "    .dataframe tbody tr th:only-of-type {\n",
       "        vertical-align: middle;\n",
       "    }\n",
       "\n",
       "    .dataframe tbody tr th {\n",
       "        vertical-align: top;\n",
       "    }\n",
       "\n",
       "    .dataframe thead th {\n",
       "        text-align: right;\n",
       "    }\n",
       "</style>\n",
       "<table border=\"1\" class=\"dataframe\">\n",
       "  <thead>\n",
       "    <tr style=\"text-align: right;\">\n",
       "      <th></th>\n",
       "      <th>App</th>\n",
       "      <th>Category</th>\n",
       "      <th>Rating</th>\n",
       "      <th>Reviews</th>\n",
       "      <th>Size</th>\n",
       "      <th>Installs</th>\n",
       "      <th>Type</th>\n",
       "      <th>Price</th>\n",
       "      <th>Content Rating</th>\n",
       "      <th>Genres</th>\n",
       "      <th>Last Updated</th>\n",
       "      <th>Current Ver</th>\n",
       "      <th>Android Ver</th>\n",
       "    </tr>\n",
       "  </thead>\n",
       "  <tbody>\n",
       "    <tr>\n",
       "      <th>0</th>\n",
       "      <td>Photo Editor &amp; Candy Camera &amp; Grid &amp; ScrapBook</td>\n",
       "      <td>ART_AND_DESIGN</td>\n",
       "      <td>4.1</td>\n",
       "      <td>159</td>\n",
       "      <td>19M</td>\n",
       "      <td>10,000+</td>\n",
       "      <td>Free</td>\n",
       "      <td>0</td>\n",
       "      <td>Everyone</td>\n",
       "      <td>Art &amp; Design</td>\n",
       "      <td>January 7, 2018</td>\n",
       "      <td>1.0.0</td>\n",
       "      <td>4.0.3 and up</td>\n",
       "    </tr>\n",
       "    <tr>\n",
       "      <th>1</th>\n",
       "      <td>Coloring book moana</td>\n",
       "      <td>ART_AND_DESIGN</td>\n",
       "      <td>3.9</td>\n",
       "      <td>967</td>\n",
       "      <td>14M</td>\n",
       "      <td>500,000+</td>\n",
       "      <td>Free</td>\n",
       "      <td>0</td>\n",
       "      <td>Everyone</td>\n",
       "      <td>Art &amp; Design;Pretend Play</td>\n",
       "      <td>January 15, 2018</td>\n",
       "      <td>2.0.0</td>\n",
       "      <td>4.0.3 and up</td>\n",
       "    </tr>\n",
       "    <tr>\n",
       "      <th>2</th>\n",
       "      <td>U Launcher Lite – FREE Live Cool Themes, Hide ...</td>\n",
       "      <td>ART_AND_DESIGN</td>\n",
       "      <td>4.7</td>\n",
       "      <td>87510</td>\n",
       "      <td>8.7M</td>\n",
       "      <td>5,000,000+</td>\n",
       "      <td>Free</td>\n",
       "      <td>0</td>\n",
       "      <td>Everyone</td>\n",
       "      <td>Art &amp; Design</td>\n",
       "      <td>August 1, 2018</td>\n",
       "      <td>1.2.4</td>\n",
       "      <td>4.0.3 and up</td>\n",
       "    </tr>\n",
       "    <tr>\n",
       "      <th>3</th>\n",
       "      <td>Sketch - Draw &amp; Paint</td>\n",
       "      <td>ART_AND_DESIGN</td>\n",
       "      <td>4.5</td>\n",
       "      <td>215644</td>\n",
       "      <td>25M</td>\n",
       "      <td>50,000,000+</td>\n",
       "      <td>Free</td>\n",
       "      <td>0</td>\n",
       "      <td>Teen</td>\n",
       "      <td>Art &amp; Design</td>\n",
       "      <td>June 8, 2018</td>\n",
       "      <td>Varies with device</td>\n",
       "      <td>4.2 and up</td>\n",
       "    </tr>\n",
       "    <tr>\n",
       "      <th>4</th>\n",
       "      <td>Pixel Draw - Number Art Coloring Book</td>\n",
       "      <td>ART_AND_DESIGN</td>\n",
       "      <td>4.3</td>\n",
       "      <td>967</td>\n",
       "      <td>2.8M</td>\n",
       "      <td>100,000+</td>\n",
       "      <td>Free</td>\n",
       "      <td>0</td>\n",
       "      <td>Everyone</td>\n",
       "      <td>Art &amp; Design;Creativity</td>\n",
       "      <td>June 20, 2018</td>\n",
       "      <td>1.1</td>\n",
       "      <td>4.4 and up</td>\n",
       "    </tr>\n",
       "  </tbody>\n",
       "</table>\n",
       "</div>"
      ],
      "text/plain": [
       "                                                 App        Category  Rating  \\\n",
       "0     Photo Editor & Candy Camera & Grid & ScrapBook  ART_AND_DESIGN     4.1   \n",
       "1                                Coloring book moana  ART_AND_DESIGN     3.9   \n",
       "2  U Launcher Lite – FREE Live Cool Themes, Hide ...  ART_AND_DESIGN     4.7   \n",
       "3                              Sketch - Draw & Paint  ART_AND_DESIGN     4.5   \n",
       "4              Pixel Draw - Number Art Coloring Book  ART_AND_DESIGN     4.3   \n",
       "\n",
       "  Reviews  Size     Installs  Type Price Content Rating  \\\n",
       "0     159   19M      10,000+  Free     0       Everyone   \n",
       "1     967   14M     500,000+  Free     0       Everyone   \n",
       "2   87510  8.7M   5,000,000+  Free     0       Everyone   \n",
       "3  215644   25M  50,000,000+  Free     0           Teen   \n",
       "4     967  2.8M     100,000+  Free     0       Everyone   \n",
       "\n",
       "                      Genres      Last Updated         Current Ver  \\\n",
       "0               Art & Design   January 7, 2018               1.0.0   \n",
       "1  Art & Design;Pretend Play  January 15, 2018               2.0.0   \n",
       "2               Art & Design    August 1, 2018               1.2.4   \n",
       "3               Art & Design      June 8, 2018  Varies with device   \n",
       "4    Art & Design;Creativity     June 20, 2018                 1.1   \n",
       "\n",
       "    Android Ver  \n",
       "0  4.0.3 and up  \n",
       "1  4.0.3 and up  \n",
       "2  4.0.3 and up  \n",
       "3    4.2 and up  \n",
       "4    4.4 and up  "
      ]
     },
     "execution_count": 281,
     "metadata": {},
     "output_type": "execute_result"
    }
   ],
   "source": [
    "df = pd.read_csv('https://raw.githubusercontent.com/krishnaik06/playstore-Dataset/main/googleplaystore.csv')\n",
    "df.head()"
   ]
  },
  {
   "cell_type": "code",
   "execution_count": 283,
   "id": "d88ce8d5-c6e2-4bfe-907a-e9cc9322dc56",
   "metadata": {},
   "outputs": [
    {
     "name": "stdout",
     "output_type": "stream",
     "text": [
      "<class 'pandas.core.frame.DataFrame'>\n",
      "RangeIndex: 10841 entries, 0 to 10840\n",
      "Data columns (total 13 columns):\n",
      " #   Column          Non-Null Count  Dtype  \n",
      "---  ------          --------------  -----  \n",
      " 0   App             10841 non-null  object \n",
      " 1   Category        10841 non-null  object \n",
      " 2   Rating          9367 non-null   float64\n",
      " 3   Reviews         10841 non-null  object \n",
      " 4   Size            10841 non-null  object \n",
      " 5   Installs        10841 non-null  object \n",
      " 6   Type            10840 non-null  object \n",
      " 7   Price           10841 non-null  object \n",
      " 8   Content Rating  10840 non-null  object \n",
      " 9   Genres          10841 non-null  object \n",
      " 10  Last Updated    10841 non-null  object \n",
      " 11  Current Ver     10833 non-null  object \n",
      " 12  Android Ver     10838 non-null  object \n",
      "dtypes: float64(1), object(12)\n",
      "memory usage: 1.1+ MB\n"
     ]
    }
   ],
   "source": [
    "df.info()"
   ]
  },
  {
   "cell_type": "code",
   "execution_count": 285,
   "id": "84be1b7d-49c1-4a28-b07c-8fe762557810",
   "metadata": {},
   "outputs": [
    {
     "data": {
      "text/html": [
       "<div>\n",
       "<style scoped>\n",
       "    .dataframe tbody tr th:only-of-type {\n",
       "        vertical-align: middle;\n",
       "    }\n",
       "\n",
       "    .dataframe tbody tr th {\n",
       "        vertical-align: top;\n",
       "    }\n",
       "\n",
       "    .dataframe thead th {\n",
       "        text-align: right;\n",
       "    }\n",
       "</style>\n",
       "<table border=\"1\" class=\"dataframe\">\n",
       "  <thead>\n",
       "    <tr style=\"text-align: right;\">\n",
       "      <th></th>\n",
       "      <th>Rating</th>\n",
       "    </tr>\n",
       "  </thead>\n",
       "  <tbody>\n",
       "    <tr>\n",
       "      <th>count</th>\n",
       "      <td>9367.000000</td>\n",
       "    </tr>\n",
       "    <tr>\n",
       "      <th>mean</th>\n",
       "      <td>4.193338</td>\n",
       "    </tr>\n",
       "    <tr>\n",
       "      <th>std</th>\n",
       "      <td>0.537431</td>\n",
       "    </tr>\n",
       "    <tr>\n",
       "      <th>min</th>\n",
       "      <td>1.000000</td>\n",
       "    </tr>\n",
       "    <tr>\n",
       "      <th>25%</th>\n",
       "      <td>4.000000</td>\n",
       "    </tr>\n",
       "    <tr>\n",
       "      <th>50%</th>\n",
       "      <td>4.300000</td>\n",
       "    </tr>\n",
       "    <tr>\n",
       "      <th>75%</th>\n",
       "      <td>4.500000</td>\n",
       "    </tr>\n",
       "    <tr>\n",
       "      <th>max</th>\n",
       "      <td>19.000000</td>\n",
       "    </tr>\n",
       "  </tbody>\n",
       "</table>\n",
       "</div>"
      ],
      "text/plain": [
       "            Rating\n",
       "count  9367.000000\n",
       "mean      4.193338\n",
       "std       0.537431\n",
       "min       1.000000\n",
       "25%       4.000000\n",
       "50%       4.300000\n",
       "75%       4.500000\n",
       "max      19.000000"
      ]
     },
     "execution_count": 285,
     "metadata": {},
     "output_type": "execute_result"
    }
   ],
   "source": [
    "df.describe()"
   ]
  },
  {
   "cell_type": "code",
   "execution_count": 287,
   "id": "9de92083-aff1-4649-b64b-e7b1c18da727",
   "metadata": {},
   "outputs": [
    {
     "data": {
      "text/plain": [
       "App                  0\n",
       "Category             0\n",
       "Rating            1474\n",
       "Reviews              0\n",
       "Size                 0\n",
       "Installs             0\n",
       "Type                 1\n",
       "Price                0\n",
       "Content Rating       1\n",
       "Genres               0\n",
       "Last Updated         0\n",
       "Current Ver          8\n",
       "Android Ver          3\n",
       "dtype: int64"
      ]
     },
     "execution_count": 287,
     "metadata": {},
     "output_type": "execute_result"
    }
   ],
   "source": [
    "## Missing Values\n",
    "\n",
    "df.isnull().sum()"
   ]
  },
  {
   "cell_type": "markdown",
   "id": "335717b9-6ef7-4e41-b090-32649d6708cd",
   "metadata": {},
   "source": [
    "## Insight and observarion\n",
    "The Dataset has Missing Values"
   ]
  },
  {
   "cell_type": "code",
   "execution_count": 290,
   "id": "69159310-d476-45da-97d9-2c9e6960d6de",
   "metadata": {},
   "outputs": [
    {
     "data": {
      "text/plain": [
       "array(['159', '967', '87510', ..., '603', '1195', '398307'], dtype=object)"
      ]
     },
     "execution_count": 290,
     "metadata": {},
     "output_type": "execute_result"
    }
   ],
   "source": [
    "df['Reviews'].unique()"
   ]
  },
  {
   "cell_type": "markdown",
   "id": "630cdd84-e836-44ac-9282-c570ef08be10",
   "metadata": {},
   "source": [
    "## Data Cleaning"
   ]
  },
  {
   "cell_type": "code",
   "execution_count": 293,
   "id": "d54d42e0-bf4e-4dee-8798-b24ee8524c40",
   "metadata": {},
   "outputs": [
    {
     "data": {
      "text/plain": [
       "10840"
      ]
     },
     "execution_count": 293,
     "metadata": {},
     "output_type": "execute_result"
    }
   ],
   "source": [
    "df['Reviews'].str.isnumeric().sum() ## Significa que todos os valores sao numericos mas em string"
   ]
  },
  {
   "cell_type": "code",
   "execution_count": 295,
   "id": "d0f8003f-7b88-46df-9d46-fd4f7a05e403",
   "metadata": {},
   "outputs": [
    {
     "data": {
      "text/html": [
       "<div>\n",
       "<style scoped>\n",
       "    .dataframe tbody tr th:only-of-type {\n",
       "        vertical-align: middle;\n",
       "    }\n",
       "\n",
       "    .dataframe tbody tr th {\n",
       "        vertical-align: top;\n",
       "    }\n",
       "\n",
       "    .dataframe thead th {\n",
       "        text-align: right;\n",
       "    }\n",
       "</style>\n",
       "<table border=\"1\" class=\"dataframe\">\n",
       "  <thead>\n",
       "    <tr style=\"text-align: right;\">\n",
       "      <th></th>\n",
       "      <th>App</th>\n",
       "      <th>Category</th>\n",
       "      <th>Rating</th>\n",
       "      <th>Reviews</th>\n",
       "      <th>Size</th>\n",
       "      <th>Installs</th>\n",
       "      <th>Type</th>\n",
       "      <th>Price</th>\n",
       "      <th>Content Rating</th>\n",
       "      <th>Genres</th>\n",
       "      <th>Last Updated</th>\n",
       "      <th>Current Ver</th>\n",
       "      <th>Android Ver</th>\n",
       "    </tr>\n",
       "  </thead>\n",
       "  <tbody>\n",
       "    <tr>\n",
       "      <th>10472</th>\n",
       "      <td>Life Made WI-Fi Touchscreen Photo Frame</td>\n",
       "      <td>1.9</td>\n",
       "      <td>19.0</td>\n",
       "      <td>3.0M</td>\n",
       "      <td>1,000+</td>\n",
       "      <td>Free</td>\n",
       "      <td>0</td>\n",
       "      <td>Everyone</td>\n",
       "      <td>NaN</td>\n",
       "      <td>February 11, 2018</td>\n",
       "      <td>1.0.19</td>\n",
       "      <td>4.0 and up</td>\n",
       "      <td>NaN</td>\n",
       "    </tr>\n",
       "  </tbody>\n",
       "</table>\n",
       "</div>"
      ],
      "text/plain": [
       "                                           App Category  Rating Reviews  \\\n",
       "10472  Life Made WI-Fi Touchscreen Photo Frame      1.9    19.0    3.0M   \n",
       "\n",
       "         Size Installs Type     Price Content Rating             Genres  \\\n",
       "10472  1,000+     Free    0  Everyone            NaN  February 11, 2018   \n",
       "\n",
       "      Last Updated Current Ver Android Ver  \n",
       "10472       1.0.19  4.0 and up         NaN  "
      ]
     },
     "execution_count": 295,
     "metadata": {},
     "output_type": "execute_result"
    }
   ],
   "source": [
    "df[~df['Reviews'].str.isnumeric()] ## Mostra os valores diferentes de numerico"
   ]
  },
  {
   "cell_type": "code",
   "execution_count": 297,
   "id": "8cb186ae-2dd9-4cf1-8c68-f61137d540ab",
   "metadata": {},
   "outputs": [],
   "source": [
    "df_copy = df.copy()"
   ]
  },
  {
   "cell_type": "code",
   "execution_count": 299,
   "id": "f7f8ae00-2152-4b27-b70f-9089bf65e948",
   "metadata": {},
   "outputs": [],
   "source": [
    "df_copy = df_copy.drop(df_copy.index[10472])"
   ]
  },
  {
   "cell_type": "code",
   "execution_count": 301,
   "id": "db140306-f7a9-4bb7-9755-4b909a326ec1",
   "metadata": {},
   "outputs": [],
   "source": [
    "## Convert Review Datatype\n",
    "df_copy['Reviews'] = df_copy['Reviews'].astype(int)"
   ]
  },
  {
   "cell_type": "code",
   "execution_count": 303,
   "id": "5085b89a-7106-4625-a61b-b9b830571c7b",
   "metadata": {},
   "outputs": [
    {
     "data": {
      "text/plain": [
       "array(['19M', '14M', '8.7M', '25M', '2.8M', '5.6M', '29M', '33M', '3.1M',\n",
       "       '28M', '12M', '20M', '21M', '37M', '2.7M', '5.5M', '17M', '39M',\n",
       "       '31M', '4.2M', '7.0M', '23M', '6.0M', '6.1M', '4.6M', '9.2M',\n",
       "       '5.2M', '11M', '24M', 'Varies with device', '9.4M', '15M', '10M',\n",
       "       '1.2M', '26M', '8.0M', '7.9M', '56M', '57M', '35M', '54M', '201k',\n",
       "       '3.6M', '5.7M', '8.6M', '2.4M', '27M', '2.5M', '16M', '3.4M',\n",
       "       '8.9M', '3.9M', '2.9M', '38M', '32M', '5.4M', '18M', '1.1M',\n",
       "       '2.2M', '4.5M', '9.8M', '52M', '9.0M', '6.7M', '30M', '2.6M',\n",
       "       '7.1M', '3.7M', '22M', '7.4M', '6.4M', '3.2M', '8.2M', '9.9M',\n",
       "       '4.9M', '9.5M', '5.0M', '5.9M', '13M', '73M', '6.8M', '3.5M',\n",
       "       '4.0M', '2.3M', '7.2M', '2.1M', '42M', '7.3M', '9.1M', '55M',\n",
       "       '23k', '6.5M', '1.5M', '7.5M', '51M', '41M', '48M', '8.5M', '46M',\n",
       "       '8.3M', '4.3M', '4.7M', '3.3M', '40M', '7.8M', '8.8M', '6.6M',\n",
       "       '5.1M', '61M', '66M', '79k', '8.4M', '118k', '44M', '695k', '1.6M',\n",
       "       '6.2M', '18k', '53M', '1.4M', '3.0M', '5.8M', '3.8M', '9.6M',\n",
       "       '45M', '63M', '49M', '77M', '4.4M', '4.8M', '70M', '6.9M', '9.3M',\n",
       "       '10.0M', '8.1M', '36M', '84M', '97M', '2.0M', '1.9M', '1.8M',\n",
       "       '5.3M', '47M', '556k', '526k', '76M', '7.6M', '59M', '9.7M', '78M',\n",
       "       '72M', '43M', '7.7M', '6.3M', '334k', '34M', '93M', '65M', '79M',\n",
       "       '100M', '58M', '50M', '68M', '64M', '67M', '60M', '94M', '232k',\n",
       "       '99M', '624k', '95M', '8.5k', '41k', '292k', '11k', '80M', '1.7M',\n",
       "       '74M', '62M', '69M', '75M', '98M', '85M', '82M', '96M', '87M',\n",
       "       '71M', '86M', '91M', '81M', '92M', '83M', '88M', '704k', '862k',\n",
       "       '899k', '378k', '266k', '375k', '1.3M', '975k', '980k', '4.1M',\n",
       "       '89M', '696k', '544k', '525k', '920k', '779k', '853k', '720k',\n",
       "       '713k', '772k', '318k', '58k', '241k', '196k', '857k', '51k',\n",
       "       '953k', '865k', '251k', '930k', '540k', '313k', '746k', '203k',\n",
       "       '26k', '314k', '239k', '371k', '220k', '730k', '756k', '91k',\n",
       "       '293k', '17k', '74k', '14k', '317k', '78k', '924k', '902k', '818k',\n",
       "       '81k', '939k', '169k', '45k', '475k', '965k', '90M', '545k', '61k',\n",
       "       '283k', '655k', '714k', '93k', '872k', '121k', '322k', '1.0M',\n",
       "       '976k', '172k', '238k', '549k', '206k', '954k', '444k', '717k',\n",
       "       '210k', '609k', '308k', '705k', '306k', '904k', '473k', '175k',\n",
       "       '350k', '383k', '454k', '421k', '70k', '812k', '442k', '842k',\n",
       "       '417k', '412k', '459k', '478k', '335k', '782k', '721k', '430k',\n",
       "       '429k', '192k', '200k', '460k', '728k', '496k', '816k', '414k',\n",
       "       '506k', '887k', '613k', '243k', '569k', '778k', '683k', '592k',\n",
       "       '319k', '186k', '840k', '647k', '191k', '373k', '437k', '598k',\n",
       "       '716k', '585k', '982k', '222k', '219k', '55k', '948k', '323k',\n",
       "       '691k', '511k', '951k', '963k', '25k', '554k', '351k', '27k',\n",
       "       '82k', '208k', '913k', '514k', '551k', '29k', '103k', '898k',\n",
       "       '743k', '116k', '153k', '209k', '353k', '499k', '173k', '597k',\n",
       "       '809k', '122k', '411k', '400k', '801k', '787k', '237k', '50k',\n",
       "       '643k', '986k', '97k', '516k', '837k', '780k', '961k', '269k',\n",
       "       '20k', '498k', '600k', '749k', '642k', '881k', '72k', '656k',\n",
       "       '601k', '221k', '228k', '108k', '940k', '176k', '33k', '663k',\n",
       "       '34k', '942k', '259k', '164k', '458k', '245k', '629k', '28k',\n",
       "       '288k', '775k', '785k', '636k', '916k', '994k', '309k', '485k',\n",
       "       '914k', '903k', '608k', '500k', '54k', '562k', '847k', '957k',\n",
       "       '688k', '811k', '270k', '48k', '329k', '523k', '921k', '874k',\n",
       "       '981k', '784k', '280k', '24k', '518k', '754k', '892k', '154k',\n",
       "       '860k', '364k', '387k', '626k', '161k', '879k', '39k', '970k',\n",
       "       '170k', '141k', '160k', '144k', '143k', '190k', '376k', '193k',\n",
       "       '246k', '73k', '658k', '992k', '253k', '420k', '404k', '470k',\n",
       "       '226k', '240k', '89k', '234k', '257k', '861k', '467k', '157k',\n",
       "       '44k', '676k', '67k', '552k', '885k', '1020k', '582k', '619k'],\n",
       "      dtype=object)"
      ]
     },
     "execution_count": 303,
     "metadata": {},
     "output_type": "execute_result"
    }
   ],
   "source": [
    "df_copy['Size'].unique()"
   ]
  },
  {
   "cell_type": "code",
   "execution_count": 305,
   "id": "1e49a596-ed7a-4e3b-af99-9da53e46f5ef",
   "metadata": {},
   "outputs": [
    {
     "data": {
      "text/plain": [
       "0        19000.0\n",
       "1        14000.0\n",
       "2            8.7\n",
       "3        25000.0\n",
       "4            2.8\n",
       "          ...   \n",
       "10836    53000.0\n",
       "10837        3.6\n",
       "10838        9.5\n",
       "10839        NaN\n",
       "10840    19000.0\n",
       "Name: Size, Length: 10840, dtype: float64"
      ]
     },
     "execution_count": 305,
     "metadata": {},
     "output_type": "execute_result"
    }
   ],
   "source": [
    "df_copy['Size'] = df_copy['Size'].str.replace('M', '000').str.replace('k', '').replace('Varies with device', np.nan)\n",
    "df_copy['Size'] = df_copy['Size'].astype(float)\n",
    "df_copy['Size']"
   ]
  },
  {
   "cell_type": "code",
   "execution_count": 307,
   "id": "690a960a-89a2-483c-a8dd-5b9d75aca244",
   "metadata": {},
   "outputs": [
    {
     "data": {
      "text/plain": [
       "1695"
      ]
     },
     "execution_count": 307,
     "metadata": {},
     "output_type": "execute_result"
    }
   ],
   "source": [
    "df_copy['Size'].isnull().sum()"
   ]
  },
  {
   "cell_type": "code",
   "execution_count": 309,
   "id": "7d17cb24-99d4-438c-80c8-72f86d33184b",
   "metadata": {},
   "outputs": [
    {
     "data": {
      "text/plain": [
       "array(['10,000+', '500,000+', '5,000,000+', '50,000,000+', '100,000+',\n",
       "       '50,000+', '1,000,000+', '10,000,000+', '5,000+', '100,000,000+',\n",
       "       '1,000,000,000+', '1,000+', '500,000,000+', '50+', '100+', '500+',\n",
       "       '10+', '1+', '5+', '0+', '0'], dtype=object)"
      ]
     },
     "execution_count": 309,
     "metadata": {},
     "output_type": "execute_result"
    }
   ],
   "source": [
    "df_copy['Installs'].unique()"
   ]
  },
  {
   "cell_type": "code",
   "execution_count": 311,
   "id": "32035f9f-3653-40c3-8a3d-1bdfe4659a3e",
   "metadata": {},
   "outputs": [
    {
     "data": {
      "text/plain": [
       "array(['0', '$4.99', '$3.99', '$6.99', '$1.49', '$2.99', '$7.99', '$5.99',\n",
       "       '$3.49', '$1.99', '$9.99', '$7.49', '$0.99', '$9.00', '$5.49',\n",
       "       '$10.00', '$24.99', '$11.99', '$79.99', '$16.99', '$14.99',\n",
       "       '$1.00', '$29.99', '$12.99', '$2.49', '$10.99', '$1.50', '$19.99',\n",
       "       '$15.99', '$33.99', '$74.99', '$39.99', '$3.95', '$4.49', '$1.70',\n",
       "       '$8.99', '$2.00', '$3.88', '$25.99', '$399.99', '$17.99',\n",
       "       '$400.00', '$3.02', '$1.76', '$4.84', '$4.77', '$1.61', '$2.50',\n",
       "       '$1.59', '$6.49', '$1.29', '$5.00', '$13.99', '$299.99', '$379.99',\n",
       "       '$37.99', '$18.99', '$389.99', '$19.90', '$8.49', '$1.75',\n",
       "       '$14.00', '$4.85', '$46.99', '$109.99', '$154.99', '$3.08',\n",
       "       '$2.59', '$4.80', '$1.96', '$19.40', '$3.90', '$4.59', '$15.46',\n",
       "       '$3.04', '$4.29', '$2.60', '$3.28', '$4.60', '$28.99', '$2.95',\n",
       "       '$2.90', '$1.97', '$200.00', '$89.99', '$2.56', '$30.99', '$3.61',\n",
       "       '$394.99', '$1.26', '$1.20', '$1.04'], dtype=object)"
      ]
     },
     "execution_count": 311,
     "metadata": {},
     "output_type": "execute_result"
    }
   ],
   "source": [
    "df_copy['Price'].unique()"
   ]
  },
  {
   "cell_type": "code",
   "execution_count": 313,
   "id": "798b67e9-5135-4b5a-a507-fc10faae9b49",
   "metadata": {},
   "outputs": [],
   "source": [
    "chars_to_remove = ['+', ',', '$']\n",
    "cols_to_clean = ['Installs', 'Price']\n",
    "\n",
    "for item in chars_to_remove:\n",
    "    for col in cols_to_clean:\n",
    "        df_copy[col] = df_copy[col].str.replace(item, '')"
   ]
  },
  {
   "cell_type": "code",
   "execution_count": 315,
   "id": "90a1ce8e-4e29-4623-9049-dab237336ccc",
   "metadata": {},
   "outputs": [
    {
     "data": {
      "text/plain": [
       "0           10000\n",
       "1          500000\n",
       "2         5000000\n",
       "3        50000000\n",
       "4          100000\n",
       "           ...   \n",
       "10836        5000\n",
       "10837         100\n",
       "10838        1000\n",
       "10839        1000\n",
       "10840    10000000\n",
       "Name: Installs, Length: 10840, dtype: object"
      ]
     },
     "execution_count": 315,
     "metadata": {},
     "output_type": "execute_result"
    }
   ],
   "source": [
    "df_copy['Installs']"
   ]
  },
  {
   "cell_type": "code",
   "execution_count": 317,
   "id": "ec3f7b66-ca85-4d58-9bfb-6021e3021e1f",
   "metadata": {},
   "outputs": [],
   "source": [
    "df_copy['Installs'] = df_copy['Installs'].astype(float)\n",
    "df_copy['Price'] = df_copy['Installs'].astype(float)"
   ]
  },
  {
   "cell_type": "code",
   "execution_count": 319,
   "id": "c24a24e5-73dd-4854-8be7-c150f42de907",
   "metadata": {},
   "outputs": [],
   "source": [
    "## Handling last update feature"
   ]
  },
  {
   "cell_type": "code",
   "execution_count": 321,
   "id": "6dd049b1-6cf1-47d2-8758-533bb2d265d2",
   "metadata": {},
   "outputs": [
    {
     "data": {
      "text/plain": [
       "0         January 7, 2018\n",
       "1        January 15, 2018\n",
       "2          August 1, 2018\n",
       "3            June 8, 2018\n",
       "4           June 20, 2018\n",
       "               ...       \n",
       "10836       July 25, 2017\n",
       "10837        July 6, 2018\n",
       "10838    January 20, 2017\n",
       "10839    January 19, 2015\n",
       "10840       July 25, 2018\n",
       "Name: Last Updated, Length: 10840, dtype: object"
      ]
     },
     "execution_count": 321,
     "metadata": {},
     "output_type": "execute_result"
    }
   ],
   "source": [
    "df_copy['Last Updated']"
   ]
  },
  {
   "cell_type": "code",
   "execution_count": 323,
   "id": "2c649f23-9a22-4c3d-99cc-72ef6a467605",
   "metadata": {},
   "outputs": [],
   "source": [
    "df_copy['Last Updated'] = pd.to_datetime(df_copy['Last Updated'])\n",
    "df_copy['Last Updated Day'] = df_copy['Last Updated'].dt.day\n",
    "df_copy['Last Updated Month'] = df_copy['Last Updated'].dt.month\n",
    "df_copy['Last Updated Year'] = df_copy['Last Updated'].dt.year"
   ]
  },
  {
   "cell_type": "code",
   "execution_count": 325,
   "id": "5ded3b13-5b09-4095-9b11-ad96f7c6b8ca",
   "metadata": {},
   "outputs": [
    {
     "data": {
      "text/plain": [
       "0        1\n",
       "1        1\n",
       "2        8\n",
       "3        6\n",
       "4        6\n",
       "        ..\n",
       "10836    7\n",
       "10837    7\n",
       "10838    1\n",
       "10839    1\n",
       "10840    7\n",
       "Name: Last Updated Month, Length: 10840, dtype: int32"
      ]
     },
     "execution_count": 325,
     "metadata": {},
     "output_type": "execute_result"
    }
   ],
   "source": [
    "df_copy['Last Updated Month']"
   ]
  },
  {
   "cell_type": "code",
   "execution_count": 327,
   "id": "a7ddb90f-deb4-44e3-8564-8e084a00742d",
   "metadata": {},
   "outputs": [],
   "source": [
    "df_copy.to_csv('google_cleaned.csv')"
   ]
  },
  {
   "cell_type": "markdown",
   "id": "2f8456dd-cc93-465d-861b-9f66a9c83221",
   "metadata": {},
   "source": [
    "## EDA"
   ]
  },
  {
   "cell_type": "code",
   "execution_count": 330,
   "id": "709ad79f-b7da-4e82-aae6-53d20f9d1365",
   "metadata": {},
   "outputs": [
    {
     "data": {
      "text/html": [
       "<div>\n",
       "<style scoped>\n",
       "    .dataframe tbody tr th:only-of-type {\n",
       "        vertical-align: middle;\n",
       "    }\n",
       "\n",
       "    .dataframe tbody tr th {\n",
       "        vertical-align: top;\n",
       "    }\n",
       "\n",
       "    .dataframe thead th {\n",
       "        text-align: right;\n",
       "    }\n",
       "</style>\n",
       "<table border=\"1\" class=\"dataframe\">\n",
       "  <thead>\n",
       "    <tr style=\"text-align: right;\">\n",
       "      <th></th>\n",
       "      <th>App</th>\n",
       "      <th>Category</th>\n",
       "      <th>Rating</th>\n",
       "      <th>Reviews</th>\n",
       "      <th>Size</th>\n",
       "      <th>Installs</th>\n",
       "      <th>Type</th>\n",
       "      <th>Price</th>\n",
       "      <th>Content Rating</th>\n",
       "      <th>Genres</th>\n",
       "      <th>Last Updated</th>\n",
       "      <th>Current Ver</th>\n",
       "      <th>Android Ver</th>\n",
       "      <th>Last Updated Day</th>\n",
       "      <th>Last Updated Month</th>\n",
       "      <th>Last Updated Year</th>\n",
       "    </tr>\n",
       "  </thead>\n",
       "  <tbody>\n",
       "    <tr>\n",
       "      <th>0</th>\n",
       "      <td>Photo Editor &amp; Candy Camera &amp; Grid &amp; ScrapBook</td>\n",
       "      <td>ART_AND_DESIGN</td>\n",
       "      <td>4.1</td>\n",
       "      <td>159</td>\n",
       "      <td>19000.0</td>\n",
       "      <td>10000.0</td>\n",
       "      <td>Free</td>\n",
       "      <td>10000.0</td>\n",
       "      <td>Everyone</td>\n",
       "      <td>Art &amp; Design</td>\n",
       "      <td>2018-01-07</td>\n",
       "      <td>1.0.0</td>\n",
       "      <td>4.0.3 and up</td>\n",
       "      <td>7</td>\n",
       "      <td>1</td>\n",
       "      <td>2018</td>\n",
       "    </tr>\n",
       "    <tr>\n",
       "      <th>1</th>\n",
       "      <td>Coloring book moana</td>\n",
       "      <td>ART_AND_DESIGN</td>\n",
       "      <td>3.9</td>\n",
       "      <td>967</td>\n",
       "      <td>14000.0</td>\n",
       "      <td>500000.0</td>\n",
       "      <td>Free</td>\n",
       "      <td>500000.0</td>\n",
       "      <td>Everyone</td>\n",
       "      <td>Art &amp; Design;Pretend Play</td>\n",
       "      <td>2018-01-15</td>\n",
       "      <td>2.0.0</td>\n",
       "      <td>4.0.3 and up</td>\n",
       "      <td>15</td>\n",
       "      <td>1</td>\n",
       "      <td>2018</td>\n",
       "    </tr>\n",
       "  </tbody>\n",
       "</table>\n",
       "</div>"
      ],
      "text/plain": [
       "                                              App        Category  Rating  \\\n",
       "0  Photo Editor & Candy Camera & Grid & ScrapBook  ART_AND_DESIGN     4.1   \n",
       "1                             Coloring book moana  ART_AND_DESIGN     3.9   \n",
       "\n",
       "   Reviews     Size  Installs  Type     Price Content Rating  \\\n",
       "0      159  19000.0   10000.0  Free   10000.0       Everyone   \n",
       "1      967  14000.0  500000.0  Free  500000.0       Everyone   \n",
       "\n",
       "                      Genres Last Updated Current Ver   Android Ver  \\\n",
       "0               Art & Design   2018-01-07       1.0.0  4.0.3 and up   \n",
       "1  Art & Design;Pretend Play   2018-01-15       2.0.0  4.0.3 and up   \n",
       "\n",
       "   Last Updated Day  Last Updated Month  Last Updated Year  \n",
       "0                 7                   1               2018  \n",
       "1                15                   1               2018  "
      ]
     },
     "execution_count": 330,
     "metadata": {},
     "output_type": "execute_result"
    }
   ],
   "source": [
    "df_copy.head(2)"
   ]
  },
  {
   "cell_type": "code",
   "execution_count": 332,
   "id": "9928b5e2-d494-4b83-99d6-34bb48817f68",
   "metadata": {},
   "outputs": [
    {
     "data": {
      "text/html": [
       "<div>\n",
       "<style scoped>\n",
       "    .dataframe tbody tr th:only-of-type {\n",
       "        vertical-align: middle;\n",
       "    }\n",
       "\n",
       "    .dataframe tbody tr th {\n",
       "        vertical-align: top;\n",
       "    }\n",
       "\n",
       "    .dataframe thead th {\n",
       "        text-align: right;\n",
       "    }\n",
       "</style>\n",
       "<table border=\"1\" class=\"dataframe\">\n",
       "  <thead>\n",
       "    <tr style=\"text-align: right;\">\n",
       "      <th></th>\n",
       "      <th>App</th>\n",
       "      <th>Category</th>\n",
       "      <th>Rating</th>\n",
       "      <th>Reviews</th>\n",
       "      <th>Size</th>\n",
       "      <th>Installs</th>\n",
       "      <th>Type</th>\n",
       "      <th>Price</th>\n",
       "      <th>Content Rating</th>\n",
       "      <th>Genres</th>\n",
       "      <th>Last Updated</th>\n",
       "      <th>Current Ver</th>\n",
       "      <th>Android Ver</th>\n",
       "    </tr>\n",
       "  </thead>\n",
       "  <tbody>\n",
       "    <tr>\n",
       "      <th>229</th>\n",
       "      <td>Quick PDF Scanner + OCR FREE</td>\n",
       "      <td>BUSINESS</td>\n",
       "      <td>4.2</td>\n",
       "      <td>80805</td>\n",
       "      <td>Varies with device</td>\n",
       "      <td>5,000,000+</td>\n",
       "      <td>Free</td>\n",
       "      <td>0</td>\n",
       "      <td>Everyone</td>\n",
       "      <td>Business</td>\n",
       "      <td>February 26, 2018</td>\n",
       "      <td>Varies with device</td>\n",
       "      <td>4.0.3 and up</td>\n",
       "    </tr>\n",
       "    <tr>\n",
       "      <th>236</th>\n",
       "      <td>Box</td>\n",
       "      <td>BUSINESS</td>\n",
       "      <td>4.2</td>\n",
       "      <td>159872</td>\n",
       "      <td>Varies with device</td>\n",
       "      <td>10,000,000+</td>\n",
       "      <td>Free</td>\n",
       "      <td>0</td>\n",
       "      <td>Everyone</td>\n",
       "      <td>Business</td>\n",
       "      <td>July 31, 2018</td>\n",
       "      <td>Varies with device</td>\n",
       "      <td>Varies with device</td>\n",
       "    </tr>\n",
       "    <tr>\n",
       "      <th>239</th>\n",
       "      <td>Google My Business</td>\n",
       "      <td>BUSINESS</td>\n",
       "      <td>4.4</td>\n",
       "      <td>70991</td>\n",
       "      <td>Varies with device</td>\n",
       "      <td>5,000,000+</td>\n",
       "      <td>Free</td>\n",
       "      <td>0</td>\n",
       "      <td>Everyone</td>\n",
       "      <td>Business</td>\n",
       "      <td>July 24, 2018</td>\n",
       "      <td>2.19.0.204537701</td>\n",
       "      <td>4.4 and up</td>\n",
       "    </tr>\n",
       "    <tr>\n",
       "      <th>256</th>\n",
       "      <td>ZOOM Cloud Meetings</td>\n",
       "      <td>BUSINESS</td>\n",
       "      <td>4.4</td>\n",
       "      <td>31614</td>\n",
       "      <td>37M</td>\n",
       "      <td>10,000,000+</td>\n",
       "      <td>Free</td>\n",
       "      <td>0</td>\n",
       "      <td>Everyone</td>\n",
       "      <td>Business</td>\n",
       "      <td>July 20, 2018</td>\n",
       "      <td>4.1.28165.0716</td>\n",
       "      <td>4.0 and up</td>\n",
       "    </tr>\n",
       "    <tr>\n",
       "      <th>261</th>\n",
       "      <td>join.me - Simple Meetings</td>\n",
       "      <td>BUSINESS</td>\n",
       "      <td>4.0</td>\n",
       "      <td>6989</td>\n",
       "      <td>Varies with device</td>\n",
       "      <td>1,000,000+</td>\n",
       "      <td>Free</td>\n",
       "      <td>0</td>\n",
       "      <td>Everyone</td>\n",
       "      <td>Business</td>\n",
       "      <td>July 16, 2018</td>\n",
       "      <td>4.3.0.508</td>\n",
       "      <td>4.4 and up</td>\n",
       "    </tr>\n",
       "    <tr>\n",
       "      <th>...</th>\n",
       "      <td>...</td>\n",
       "      <td>...</td>\n",
       "      <td>...</td>\n",
       "      <td>...</td>\n",
       "      <td>...</td>\n",
       "      <td>...</td>\n",
       "      <td>...</td>\n",
       "      <td>...</td>\n",
       "      <td>...</td>\n",
       "      <td>...</td>\n",
       "      <td>...</td>\n",
       "      <td>...</td>\n",
       "      <td>...</td>\n",
       "    </tr>\n",
       "    <tr>\n",
       "      <th>10715</th>\n",
       "      <td>FarmersOnly Dating</td>\n",
       "      <td>DATING</td>\n",
       "      <td>3.0</td>\n",
       "      <td>1145</td>\n",
       "      <td>1.4M</td>\n",
       "      <td>100,000+</td>\n",
       "      <td>Free</td>\n",
       "      <td>0</td>\n",
       "      <td>Mature 17+</td>\n",
       "      <td>Dating</td>\n",
       "      <td>February 25, 2016</td>\n",
       "      <td>2.2</td>\n",
       "      <td>4.0 and up</td>\n",
       "    </tr>\n",
       "    <tr>\n",
       "      <th>10720</th>\n",
       "      <td>Firefox Focus: The privacy browser</td>\n",
       "      <td>COMMUNICATION</td>\n",
       "      <td>4.4</td>\n",
       "      <td>36981</td>\n",
       "      <td>4.0M</td>\n",
       "      <td>1,000,000+</td>\n",
       "      <td>Free</td>\n",
       "      <td>0</td>\n",
       "      <td>Everyone</td>\n",
       "      <td>Communication</td>\n",
       "      <td>July 6, 2018</td>\n",
       "      <td>5.2</td>\n",
       "      <td>5.0 and up</td>\n",
       "    </tr>\n",
       "    <tr>\n",
       "      <th>10730</th>\n",
       "      <td>FP Notebook</td>\n",
       "      <td>MEDICAL</td>\n",
       "      <td>4.5</td>\n",
       "      <td>410</td>\n",
       "      <td>60M</td>\n",
       "      <td>50,000+</td>\n",
       "      <td>Free</td>\n",
       "      <td>0</td>\n",
       "      <td>Everyone</td>\n",
       "      <td>Medical</td>\n",
       "      <td>March 24, 2018</td>\n",
       "      <td>2.1.0.372</td>\n",
       "      <td>4.4 and up</td>\n",
       "    </tr>\n",
       "    <tr>\n",
       "      <th>10753</th>\n",
       "      <td>Slickdeals: Coupons &amp; Shopping</td>\n",
       "      <td>SHOPPING</td>\n",
       "      <td>4.5</td>\n",
       "      <td>33599</td>\n",
       "      <td>12M</td>\n",
       "      <td>1,000,000+</td>\n",
       "      <td>Free</td>\n",
       "      <td>0</td>\n",
       "      <td>Everyone</td>\n",
       "      <td>Shopping</td>\n",
       "      <td>July 30, 2018</td>\n",
       "      <td>3.9</td>\n",
       "      <td>4.4 and up</td>\n",
       "    </tr>\n",
       "    <tr>\n",
       "      <th>10768</th>\n",
       "      <td>AAFP</td>\n",
       "      <td>MEDICAL</td>\n",
       "      <td>3.8</td>\n",
       "      <td>63</td>\n",
       "      <td>24M</td>\n",
       "      <td>10,000+</td>\n",
       "      <td>Free</td>\n",
       "      <td>0</td>\n",
       "      <td>Everyone</td>\n",
       "      <td>Medical</td>\n",
       "      <td>June 22, 2018</td>\n",
       "      <td>2.3.1</td>\n",
       "      <td>5.0 and up</td>\n",
       "    </tr>\n",
       "  </tbody>\n",
       "</table>\n",
       "<p>1181 rows × 13 columns</p>\n",
       "</div>"
      ],
      "text/plain": [
       "                                      App       Category  Rating Reviews  \\\n",
       "229          Quick PDF Scanner + OCR FREE       BUSINESS     4.2   80805   \n",
       "236                                   Box       BUSINESS     4.2  159872   \n",
       "239                    Google My Business       BUSINESS     4.4   70991   \n",
       "256                   ZOOM Cloud Meetings       BUSINESS     4.4   31614   \n",
       "261             join.me - Simple Meetings       BUSINESS     4.0    6989   \n",
       "...                                   ...            ...     ...     ...   \n",
       "10715                  FarmersOnly Dating         DATING     3.0    1145   \n",
       "10720  Firefox Focus: The privacy browser  COMMUNICATION     4.4   36981   \n",
       "10730                         FP Notebook        MEDICAL     4.5     410   \n",
       "10753      Slickdeals: Coupons & Shopping       SHOPPING     4.5   33599   \n",
       "10768                                AAFP        MEDICAL     3.8      63   \n",
       "\n",
       "                     Size     Installs  Type Price Content Rating  \\\n",
       "229    Varies with device   5,000,000+  Free     0       Everyone   \n",
       "236    Varies with device  10,000,000+  Free     0       Everyone   \n",
       "239    Varies with device   5,000,000+  Free     0       Everyone   \n",
       "256                   37M  10,000,000+  Free     0       Everyone   \n",
       "261    Varies with device   1,000,000+  Free     0       Everyone   \n",
       "...                   ...          ...   ...   ...            ...   \n",
       "10715                1.4M     100,000+  Free     0     Mature 17+   \n",
       "10720                4.0M   1,000,000+  Free     0       Everyone   \n",
       "10730                 60M      50,000+  Free     0       Everyone   \n",
       "10753                 12M   1,000,000+  Free     0       Everyone   \n",
       "10768                 24M      10,000+  Free     0       Everyone   \n",
       "\n",
       "              Genres       Last Updated         Current Ver  \\\n",
       "229         Business  February 26, 2018  Varies with device   \n",
       "236         Business      July 31, 2018  Varies with device   \n",
       "239         Business      July 24, 2018    2.19.0.204537701   \n",
       "256         Business      July 20, 2018      4.1.28165.0716   \n",
       "261         Business      July 16, 2018           4.3.0.508   \n",
       "...              ...                ...                 ...   \n",
       "10715         Dating  February 25, 2016                 2.2   \n",
       "10720  Communication       July 6, 2018                 5.2   \n",
       "10730        Medical     March 24, 2018           2.1.0.372   \n",
       "10753       Shopping      July 30, 2018                 3.9   \n",
       "10768        Medical      June 22, 2018               2.3.1   \n",
       "\n",
       "              Android Ver  \n",
       "229          4.0.3 and up  \n",
       "236    Varies with device  \n",
       "239            4.4 and up  \n",
       "256            4.0 and up  \n",
       "261            4.4 and up  \n",
       "...                   ...  \n",
       "10715          4.0 and up  \n",
       "10720          5.0 and up  \n",
       "10730          4.4 and up  \n",
       "10753          4.4 and up  \n",
       "10768          5.0 and up  \n",
       "\n",
       "[1181 rows x 13 columns]"
      ]
     },
     "execution_count": 332,
     "metadata": {},
     "output_type": "execute_result"
    }
   ],
   "source": [
    "df[df['App'].duplicated()]"
   ]
  },
  {
   "cell_type": "markdown",
   "id": "a7b2303b-27b0-4e23-be80-c7335562faed",
   "metadata": {},
   "source": [
    "## Observation\n",
    "The Dataset has duplicate"
   ]
  },
  {
   "cell_type": "code",
   "execution_count": 340,
   "id": "8342a97d-b771-4347-bbe7-c2fcb029e126",
   "metadata": {},
   "outputs": [],
   "source": [
    "df_copy = df_copy.drop_duplicates(subset=['App'], keep='first')"
   ]
  },
  {
   "cell_type": "code",
   "execution_count": 342,
   "id": "5e4f0b25-43f3-4065-8d18-7dc8d2e66594",
   "metadata": {},
   "outputs": [
    {
     "data": {
      "text/plain": [
       "(9659, 16)"
      ]
     },
     "execution_count": 342,
     "metadata": {},
     "output_type": "execute_result"
    }
   ],
   "source": [
    "df_copy.shape"
   ]
  },
  {
   "cell_type": "markdown",
   "id": "d015508e-6ea5-472d-b174-5d78797a6207",
   "metadata": {},
   "source": [
    "## Explore Data"
   ]
  },
  {
   "cell_type": "code",
   "execution_count": 344,
   "id": "209c5b96-7c74-40a3-a783-b78d408826df",
   "metadata": {},
   "outputs": [
    {
     "name": "stdout",
     "output_type": "stream",
     "text": [
      "We have 9 numerical features: ['Rating', 'Reviews', 'Size', 'Installs', 'Price', 'Last Updated', 'Last Updated Day', 'Last Updated Month', 'Last Updated Year']\n",
      "\n",
      "We have 7 caterogical features: ['App', 'Category', 'Type', 'Content Rating', 'Genres', 'Current Ver', 'Android Ver']\n"
     ]
    }
   ],
   "source": [
    "numeric_features = [feature for feature in df_copy.columns if df_copy[feature].dtype != 'O']\n",
    "categorical_features = [feature for feature in df_copy.columns if df_copy[feature].dtype == 'O']\n",
    "\n",
    "print('We have {} numerical features: {}'.format(len(numeric_features), numeric_features))\n",
    "print('\\nWe have {} caterogical features: {}'.format(len(categorical_features), categorical_features))"
   ]
  },
  {
   "cell_type": "code",
   "execution_count": 350,
   "id": "ef5805c8-4a1a-4b6e-bbf1-7ea1561a352a",
   "metadata": {},
   "outputs": [
    {
     "name": "stdout",
     "output_type": "stream",
     "text": [
      "App\n",
      "ROBLOX                                                9\n",
      "CBS Sports App - Scores, News, Stats & Watch Live     8\n",
      "ESPN                                                  7\n",
      "Duolingo: Learn Languages Free                        7\n",
      "Candy Crush Saga                                      7\n",
      "                                                     ..\n",
      "Meet U - Get Friends for Snapchat, Kik & Instagram    1\n",
      "U-Report                                              1\n",
      "U of I Community Credit Union                         1\n",
      "Waiting For U Launcher Theme                          1\n",
      "iHoroscope - 2018 Daily Horoscope & Astrology         1\n",
      "Name: count, Length: 9660, dtype: int64\n",
      "---------------------------\n",
      "Category\n",
      "FAMILY                 1972\n",
      "GAME                   1144\n",
      "TOOLS                   843\n",
      "MEDICAL                 463\n",
      "BUSINESS                460\n",
      "PRODUCTIVITY            424\n",
      "PERSONALIZATION         392\n",
      "COMMUNICATION           387\n",
      "SPORTS                  384\n",
      "LIFESTYLE               382\n",
      "FINANCE                 366\n",
      "HEALTH_AND_FITNESS      341\n",
      "PHOTOGRAPHY             335\n",
      "SOCIAL                  295\n",
      "NEWS_AND_MAGAZINES      283\n",
      "SHOPPING                260\n",
      "TRAVEL_AND_LOCAL        258\n",
      "DATING                  234\n",
      "BOOKS_AND_REFERENCE     231\n",
      "VIDEO_PLAYERS           175\n",
      "EDUCATION               156\n",
      "ENTERTAINMENT           149\n",
      "MAPS_AND_NAVIGATION     137\n",
      "FOOD_AND_DRINK          127\n",
      "HOUSE_AND_HOME           88\n",
      "LIBRARIES_AND_DEMO       85\n",
      "AUTO_AND_VEHICLES        85\n",
      "WEATHER                  82\n",
      "ART_AND_DESIGN           65\n",
      "EVENTS                   64\n",
      "PARENTING                60\n",
      "COMICS                   60\n",
      "BEAUTY                   53\n",
      "1.9                       1\n",
      "Name: count, dtype: int64\n",
      "---------------------------\n",
      "Type\n",
      "Free    10039\n",
      "Paid      800\n",
      "0           1\n",
      "Name: count, dtype: int64\n",
      "---------------------------\n",
      "Content Rating\n",
      "Everyone           8714\n",
      "Teen               1208\n",
      "Mature 17+          499\n",
      "Everyone 10+        414\n",
      "Adults only 18+       3\n",
      "Unrated               2\n",
      "Name: count, dtype: int64\n",
      "---------------------------\n",
      "Genres\n",
      "Tools                     842\n",
      "Entertainment             623\n",
      "Education                 549\n",
      "Medical                   463\n",
      "Business                  460\n",
      "                         ... \n",
      "Arcade;Pretend Play         1\n",
      "Card;Brain Games            1\n",
      "Lifestyle;Pretend Play      1\n",
      "Comics;Creativity           1\n",
      "Strategy;Creativity         1\n",
      "Name: count, Length: 120, dtype: int64\n",
      "---------------------------\n",
      "Current Ver\n",
      "Varies with device    1459\n",
      "1.0                    809\n",
      "1.1                    264\n",
      "1.2                    178\n",
      "2.0                    151\n",
      "                      ... \n",
      "1.0.17.3905              1\n",
      "15.1.2                   1\n",
      "4.94.19                  1\n",
      "1.1.11.11                1\n",
      "2.0.148.0                1\n",
      "Name: count, Length: 2832, dtype: int64\n",
      "---------------------------\n",
      "Android Ver\n",
      "4.1 and up            2451\n",
      "4.0.3 and up          1501\n",
      "4.0 and up            1375\n",
      "Varies with device    1362\n",
      "4.4 and up             980\n",
      "2.3 and up             652\n",
      "5.0 and up             601\n",
      "4.2 and up             394\n",
      "2.3.3 and up           281\n",
      "2.2 and up             244\n",
      "4.3 and up             243\n",
      "3.0 and up             241\n",
      "2.1 and up             134\n",
      "1.6 and up             116\n",
      "6.0 and up              60\n",
      "7.0 and up              42\n",
      "3.2 and up              36\n",
      "2.0 and up              32\n",
      "5.1 and up              24\n",
      "1.5 and up              20\n",
      "4.4W and up             12\n",
      "3.1 and up              10\n",
      "2.0.1 and up             7\n",
      "8.0 and up               6\n",
      "7.1 and up               3\n",
      "4.0.3 - 7.1.1            2\n",
      "5.0 - 8.0                2\n",
      "1.0 and up               2\n",
      "7.0 - 7.1.1              1\n",
      "4.1 - 7.1.1              1\n",
      "5.0 - 6.0                1\n",
      "2.2 - 7.1.1              1\n",
      "5.0 - 7.1.1              1\n",
      "Name: count, dtype: int64\n",
      "---------------------------\n"
     ]
    }
   ],
   "source": [
    "## Proportion of count data on categorical columns\n",
    "for col in categorical_features:\n",
    "    print(df[col].value_counts())\n",
    "    print('---------------------------')"
   ]
  },
  {
   "cell_type": "code",
   "execution_count": 360,
   "id": "1bbe1f44-0545-48bb-ba59-32565f1d495c",
   "metadata": {},
   "outputs": [
    {
     "data": {
      "image/png": "[encoded data removed]",
      "text/plain": [
       "<Figure size 1500x1500 with 9 Axes>"
      ]
     },
     "metadata": {},
     "output_type": "display_data"
    }
   ],
   "source": [
    "## Proportion of count data on categorical columns\n",
    "plt.figure(figsize=(15,15))\n",
    "plt.suptitle('Univariate Analysis of Numerical Features', fontsize=20, fontweight='bold', alpha=0.8, y=1.)\n",
    "\n",
    "for i in range(0, len(numeric_features)):\n",
    "    plt.subplot(5, 3, i+1)\n",
    "    sns.kdeplot(x=df_copy[numeric_features[i]], shade=True, color='r')\n",
    "    plt.xlabel(numeric_features[i])\n",
    "    plt.tight_layout()\n",
    "\n",
    "plt.show()"
   ]
  },
  {
   "cell_type": "markdown",
   "id": "f70210fc-8d3b-4be7-8c61-4bd4728a3184",
   "metadata": {},
   "source": [
    "## Observations\n",
    "- Rating and Year is left skewed while Reviews, Size, Installs and Price are right skewed"
   ]
  },
  {
   "cell_type": "code",
   "execution_count": 388,
   "id": "e3dbcce9-d6f2-40d6-b8c6-c4f9d344257f",
   "metadata": {},
   "outputs": [
    {
     "data": {
      "image/png": "[encoded data removed]",
      "text/plain": [
       "<Figure size 2000x1500 with 2 Axes>"
      ]
     },
     "metadata": {},
     "output_type": "display_data"
    }
   ],
   "source": [
    "## Proportion of count data on categorical columns\n",
    "plt.figure(figsize=(20,15))\n",
    "plt.suptitle('Univariate Analysis of Categorical Features', fontsize=20, fontweight='bold', alpha=0.8, y=1.)\n",
    "category = ['Type', 'Content Rating']\n",
    "\n",
    "for i in range(0, len(category)):\n",
    "    plt.subplot(2, 2, i+1)\n",
    "    sns.countplot(x=df[category[i]], palette='Set2')\n",
    "    plt.xlabel(category[i])\n",
    "    plt.xticks(rotation=45)\n",
    "    plt.tight_layout()\n",
    "\n",
    "plt.show()"
   ]
  },
  {
   "cell_type": "code",
   "execution_count": null,
   "id": "92992276-485c-4005-beb9-feed6b7ae8a1",
   "metadata": {},
   "outputs": [],
   "source": []
  }
 ],
 "metadata": {
  "kernelspec": {
   "display_name": "Python [conda env:base] *",
   "language": "python",
   "name": "conda-base-py"
  },
  "language_info": {
   "codemirror_mode": {
    "name": "ipython",
    "version": 3
   },
   "file_extension": ".py",
   "mimetype": "text/x-python",
   "name": "python",
   "nbconvert_exporter": "python",
   "pygments_lexer": "ipython3",
   "version": "3.12.7"
  },
  "panel-cell-order": [
   "e62c4fdb-a844-4737-9e52-5b4874f2cd05"
  ]
 },
 "nbformat": 4,
 "nbformat_minor": 5
}
