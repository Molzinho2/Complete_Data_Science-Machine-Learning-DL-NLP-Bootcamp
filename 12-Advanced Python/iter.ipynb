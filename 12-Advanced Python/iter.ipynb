{
 "cells": [
  {
   "cell_type": "code",
   "execution_count": 4,
   "id": "80f47ed2",
   "metadata": {},
   "outputs": [
    {
     "name": "stdout",
     "output_type": "stream",
     "text": [
      "do the math with: 100\n",
      "do the math with: 121\n",
      "do the math with: 144\n",
      "do the math with: 169\n",
      "do the math with: 196\n",
      "do the math with: 225\n",
      "do the math with: 256\n",
      "do the math with: 289\n",
      "do the math with: 324\n",
      "do the math with: 361\n"
     ]
    }
   ],
   "source": [
    "def other_math(number):\n",
    "  print('do the math with:', number)\n",
    "  \n",
    "def gen_squares_in_interval(x, y):\n",
    "  for i in range(x, y):\n",
    "    yield i*i\n",
    "\n",
    "if __name__ == '__main__':\n",
    "\n",
    "  x, y = (10, 20)\n",
    "  \n",
    "  for number in gen_squares_in_interval(x, y):\n",
    "    other_math(number)"
   ]
  },
  {
   "cell_type": "code",
   "execution_count": null,
   "id": "e0a23dad",
   "metadata": {},
   "outputs": [],
   "source": []
  }
 ],
 "metadata": {
  "kernelspec": {
   "display_name": "base",
   "language": "python",
   "name": "python3"
  },
  "language_info": {
   "codemirror_mode": {
    "name": "ipython",
    "version": 3
   },
   "file_extension": ".py",
   "mimetype": "text/x-python",
   "name": "python",
   "nbconvert_exporter": "python",
   "pygments_lexer": "ipython3",
   "version": "3.12.7"
  }
 },
 "nbformat": 4,
 "nbformat_minor": 5
}
