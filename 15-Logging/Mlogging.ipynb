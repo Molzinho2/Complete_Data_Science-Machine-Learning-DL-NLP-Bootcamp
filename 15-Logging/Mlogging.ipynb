{
 "cells": [
  {
   "cell_type": "markdown",
   "id": "a7ccda53",
   "metadata": {},
   "source": [
    "## Logging com Multiplos loggers"
   ]
  },
  {
   "cell_type": "code",
   "execution_count": 1,
   "id": "7e26c8ad",
   "metadata": {},
   "outputs": [],
   "source": [
    "import logging"
   ]
  },
  {
   "cell_type": "code",
   "execution_count": 2,
   "id": "f9a0c17c",
   "metadata": {},
   "outputs": [],
   "source": [
    "## Criação do logger para o modulo 1\n",
    "\n",
    "logger1 = logging.getLogger(\"modulo1\")\n",
    "logger1.setLevel(logging.DEBUG)"
   ]
  },
  {
   "cell_type": "code",
   "execution_count": 3,
   "id": "d19246a8",
   "metadata": {},
   "outputs": [],
   "source": [
    "## Criação do logger para o modulo 2\n",
    "\n",
    "logger2 = logging.getLogger(\"modulo2\")\n",
    "logger2.setLevel(logging.WARNING)"
   ]
  },
  {
   "cell_type": "code",
   "execution_count": 4,
   "id": "5659015e",
   "metadata": {},
   "outputs": [],
   "source": [
    "logging.basicConfig(level=logging.DEBUG,\n",
    "                    format='%(asctime)s - %(name)s - %(levelname)s - %(message)s',\n",
    "                    datefmt='%Y-%m-%d %H:%M:%S',)"
   ]
  },
  {
   "cell_type": "code",
   "execution_count": 5,
   "id": "8bb0eb63",
   "metadata": {},
   "outputs": [
    {
     "name": "stderr",
     "output_type": "stream",
     "text": [
      "2025-04-15 18:51:47 - modulo1 - DEBUG - Mensagem de debug do modulo 1\n",
      "2025-04-15 18:51:47 - modulo2 - WARNING - Mensagem de warning do modulo 2\n"
     ]
    }
   ],
   "source": [
    "## Mensagens logs para diferentes loggers\n",
    "\n",
    "logger1.debug(\"Mensagem de debug do modulo 1\")\n",
    "logger2.warning(\"Mensagem de warning do modulo 2\")"
   ]
  },
  {
   "cell_type": "code",
   "execution_count": null,
   "id": "d737c896",
   "metadata": {},
   "outputs": [],
   "source": []
  }
 ],
 "metadata": {
  "kernelspec": {
   "display_name": "base",
   "language": "python",
   "name": "python3"
  },
  "language_info": {
   "codemirror_mode": {
    "name": "ipython",
    "version": 3
   },
   "file_extension": ".py",
   "mimetype": "text/x-python",
   "name": "python",
   "nbconvert_exporter": "python",
   "pygments_lexer": "ipython3",
   "version": "3.12.7"
  }
 },
 "nbformat": 4,
 "nbformat_minor": 5
}
