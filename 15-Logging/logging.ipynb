{
 "cells": [
  {
   "cell_type": "markdown",
   "id": "cda3a004",
   "metadata": {},
   "source": [
    "## Python Logging"
   ]
  },
  {
   "cell_type": "code",
   "execution_count": 1,
   "id": "2be5281c",
   "metadata": {},
   "outputs": [],
   "source": [
    "import logging"
   ]
  },
  {
   "cell_type": "code",
   "execution_count": 3,
   "id": "3ad71595",
   "metadata": {},
   "outputs": [
    {
     "name": "stderr",
     "output_type": "stream",
     "text": [
      "DEBUG:root:Debug message\n",
      "INFO:root:Info message\n",
      "WARNING:root:Warning message\n",
      "ERROR:root:Error message\n",
      "CRITICAL:root:Critical message\n"
     ]
    }
   ],
   "source": [
    "# Configuração básica do logging\n",
    "logging.basicConfig(level=logging.DEBUG)\n",
    "\n",
    "# diferentes niveis de log\n",
    "logging.debug(\"Debug message\")\n",
    "logging.info(\"Info message\")\n",
    "logging.warning(\"Warning message\")\n",
    "logging.error(\"Error message\")\n",
    "logging.critical(\"Critical message\")"
   ]
  },
  {
   "cell_type": "markdown",
   "id": "4def5546",
   "metadata": {},
   "source": [
    "## Log levels\n",
    "\n",
    "1. Debug: Detalha informações, tipicamete de interesse apenas para diagnosticar problemas\n",
    "2. INFO: Confirmação de ação realizada com sucesso\n",
    "3. WARNING: Indicador de algo inesperado, entretanto conseguindo realizar a ação\n",
    "4. ERROR: Um ou mais problemas durante a aplicação\n",
    "5. CRITICAL: A ponto de dar um crash na aplicação"
   ]
  },
  {
   "cell_type": "code",
   "execution_count": 2,
   "id": "0b6c11aa",
   "metadata": {},
   "outputs": [],
   "source": [
    "# Configuração mais abrangente\n",
    "logging.basicConfig(\n",
    "    filename='logfile.log',\n",
    "    filemode='w',\n",
    "    level=logging.DEBUG, format='%(asctime)s-%(name)s-%(levelname)s-%(message)s',\n",
    "    datefmt='%Y-%m-%d %H:%M:%S',\n",
    "    )\n",
    "\n",
    "# diferentes niveis de log\n",
    "logging.debug(\"Debug message\")\n",
    "logging.info(\"Info message\")\n",
    "logging.warning(\"Warning message\")\n",
    "logging.error(\"Error message\")\n",
    "logging.critical(\"Critical message\")"
   ]
  },
  {
   "cell_type": "code",
   "execution_count": 3,
   "id": "401bba8b",
   "metadata": {},
   "outputs": [],
   "source": [
    "logging.debug(\"Debug message\")\n",
    "logging.info(\"Info message\")\n",
    "logging.warning(\"Warning message\")\n",
    "logging.error(\"Error message\")\n",
    "logging.critical(\"Critical message\")"
   ]
  },
  {
   "cell_type": "code",
   "execution_count": null,
   "id": "28093789",
   "metadata": {},
   "outputs": [],
   "source": []
  },
  {
   "cell_type": "code",
   "execution_count": null,
   "id": "e754cf8f",
   "metadata": {},
   "outputs": [],
   "source": []
  }
 ],
 "metadata": {
  "kernelspec": {
   "display_name": "base",
   "language": "python",
   "name": "python3"
  },
  "language_info": {
   "codemirror_mode": {
    "name": "ipython",
    "version": 3
   },
   "file_extension": ".py",
   "mimetype": "text/x-python",
   "name": "python",
   "nbconvert_exporter": "python",
   "pygments_lexer": "ipython3",
   "version": "3.12.7"
  }
 },
 "nbformat": 4,
 "nbformat_minor": 5
}
